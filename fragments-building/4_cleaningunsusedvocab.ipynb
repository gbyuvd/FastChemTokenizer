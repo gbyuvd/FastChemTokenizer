{
 "cells": [
  {
   "cell_type": "code",
   "execution_count": null,
   "id": "758898bb",
   "metadata": {},
   "outputs": [
    {
     "name": "stdout",
     "output_type": "stream",
     "text": [
      "📊 Loaded 2684370 SMILES strings for analysis.\n"
     ]
    },
    {
     "name": "stderr",
     "output_type": "stream",
     "text": [
      "📈 Counting token usage: 100%|██████████| 2684370/2684370 [02:29<00:00, 18008.39smiles/s]"
     ]
    },
    {
     "name": "stdout",
     "output_type": "stream",
     "text": [
      "✅ Found usage for 1233 unique tokens.\n",
      "🧃 Keeping 1237 tokens (including special tokens).\n",
      "🆕 New vocab size: 1238\n",
      "🧪 Test encode/decode: 'CCO' → [671] → 'CCO'\n",
      "✅ Tokenizer vocab saved to: ./chemtok\\vocab.json\n",
      "✅ Pruned tokenizer saved to ./chemtok/vocab.json\n"
     ]
    },
    {
     "name": "stderr",
     "output_type": "stream",
     "text": [
      "\n"
     ]
    }
   ],
   "source": [
    "import pandas as pd\n",
    "from collections import defaultdict\n",
    "from FastChemTokenizer import FastChemTokenizer\n",
    "from tqdm import tqdm \n",
    "\n",
    "# --- 1. Load tokenizer ---\n",
    "tokenizer = FastChemTokenizer.from_pretrained(\"../smitok-proto\")\n",
    "\n",
    "# --- 2. Load dataset ---\n",
    "df = pd.read_csv(\"../comb_smi.csv\", header=None, names=[\"smiles\"])\n",
    "smiles_list = df[\"smiles\"].dropna().astype(str).tolist()\n",
    "\n",
    "print(f\"📊 Loaded {len(smiles_list)} SMILES strings for analysis.\")\n",
    "\n",
    "# --- 3. Count token usage WITH PROGRESS BAR ---\n",
    "token_usage = defaultdict(int)\n",
    "\n",
    "for smiles in tqdm(smiles_list, desc=\"📈 Counting token usage\", unit=\"smiles\"):\n",
    "    token_ids = tokenizer.encode(smiles)\n",
    "    for tid in token_ids:\n",
    "        token_usage[tid] += 1\n",
    "\n",
    "print(f\"✅ Found usage for {len(token_usage)} unique tokens.\")\n",
    "\n",
    "# --- 4. Identify tokens to KEEP ---\n",
    "# Always keep special tokens, even if unused (required for model)\n",
    "special_tokens = {\n",
    "    tokenizer.bos_token_id,\n",
    "    tokenizer.eos_token_id,\n",
    "    tokenizer.pad_token_id,\n",
    "    tokenizer.unk_token_id,\n",
    "    tokenizer.mask_token_id,\n",
    "}\n",
    "\n",
    "# Tokens that appeared at least once OR are special\n",
    "tokens_to_keep = set(token_usage.keys()) | special_tokens\n",
    "\n",
    "print(f\"🧃 Keeping {len(tokens_to_keep)} tokens (including special tokens).\")\n",
    "\n",
    "# --- 5. Build new token_to_id mapping ---\n",
    "# We assign special tokens fixed low IDs for consistency\n",
    "new_token_to_id = {\n",
    "    tokenizer.bos_token: 0,\n",
    "    tokenizer.eos_token: 1,\n",
    "    tokenizer.pad_token: 2,\n",
    "    tokenizer.unk_token: 3,\n",
    "    tokenizer.mask_token: 4\n",
    "}\n",
    "\n",
    "# Then assign remaining tokens new contiguous IDs\n",
    "next_id = 5\n",
    "for old_id in sorted(tokens_to_keep - special_tokens):  # sort for determinism\n",
    "    token = tokenizer.id_to_token[old_id]\n",
    "    if token not in new_token_to_id:  # avoid duplicates (shouldn't happen)\n",
    "        new_token_to_id[token] = next_id\n",
    "        next_id += 1\n",
    "\n",
    "print(f\"🆕 New vocab size: {len(new_token_to_id)}\")\n",
    "\n",
    "# --- 6. Create new pruned & renumbered tokenizer ---\n",
    "pruned_tokenizer = FastChemTokenizer(\n",
    "    token_to_id=new_token_to_id,\n",
    "    model_max_length=tokenizer.model_max_length\n",
    ")\n",
    "\n",
    "# Optional: Verify decoding still works\n",
    "test_smiles = \"CCO\"\n",
    "test_ids = pruned_tokenizer.encode(test_smiles)\n",
    "decoded = pruned_tokenizer.decode(test_ids)\n",
    "print(f\"🧪 Test encode/decode: '{test_smiles}' → {test_ids} → '{decoded}'\")\n",
    "\n",
    "# --- 7. Save to ./chemtok/ ---\n",
    "save_dir = \"./chemtok\"\n",
    "pruned_tokenizer.save_pretrained(save_dir)\n",
    "\n",
    "print(f\"✅ Pruned tokenizer saved to {save_dir}/vocab.json\")"
   ]
  },
  {
   "cell_type": "code",
   "execution_count": 4,
   "id": "4740dc02",
   "metadata": {},
   "outputs": [
    {
     "name": "stdout",
     "output_type": "stream",
     "text": [
      "\n",
      "🔍 Decoding 10 tokens:\n",
      "  [000] ID=   59 → 'COc1ccc2[nH]c'\n",
      "  [001] ID=  782 → '3'\n",
      "  [002] ID=  754 → 'c('\n",
      "  [003] ID=  765 → 'c2'\n",
      "  [004] ID=  755 → 'c1'\n",
      "  [005] ID=  691 → ')CC'\n",
      "  [006] ID=  745 → 'NC'\n",
      "  [007] ID=  782 → '3'\n",
      "  [008] ID=  778 → '='\n",
      "  [009] ID= 1211 → 'O'\n"
     ]
    }
   ],
   "source": [
    "tokenizer.decode_with_trace(tokenizer.encode(\"COc1ccc2[nH]c3c(c2c1)CCNC3=O\"))"
   ]
  },
  {
   "cell_type": "code",
   "execution_count": 5,
   "id": "c2f0d2d0",
   "metadata": {},
   "outputs": [
    {
     "name": "stdout",
     "output_type": "stream",
     "text": [
      "✂️  Pruned 270 unused tokens.\n",
      "🗑️  Sample of pruned tokens (max 10):\n",
      "   '²'\n",
      "   'È'\n",
      "   'C@@H](O)['\n",
      "   '¦'\n",
      "   'ñ'\n",
      "   'Ĭ'\n",
      "   '(C(=O'\n",
      "   'Æ'\n",
      "   'Ö'\n",
      "   '§'\n"
     ]
    }
   ],
   "source": [
    "original_vocab_size = len(tokenizer.token_to_id)\n",
    "pruned_vocab_size = len(new_token_to_id)\n",
    "pruned_count = original_vocab_size - pruned_vocab_size\n",
    "\n",
    "print(f\"✂️  Pruned {pruned_count} unused tokens.\")\n",
    "\n",
    "# List some pruned tokens (if any)\n",
    "pruned_tokens = set(tokenizer.token_to_id.keys()) - set(new_token_to_id.keys())\n",
    "if pruned_tokens:\n",
    "    print(\"🗑️  Sample of pruned tokens (max 10):\")\n",
    "    for t in list(pruned_tokens)[:10]:\n",
    "        print(f\"   '{t}'\")"
   ]
  },
  {
   "cell_type": "code",
   "execution_count": 6,
   "id": "7e65a02f",
   "metadata": {},
   "outputs": [
    {
     "name": "stdout",
     "output_type": "stream",
     "text": [
      "🔍 Validating tokenizer on dataset...\n"
     ]
    },
    {
     "name": "stderr",
     "output_type": "stream",
     "text": [
      "🧪 Validating: 100%|██████████| 1000/1000 [00:00<00:00, 10554.26smiles/s]"
     ]
    },
    {
     "name": "stdout",
     "output_type": "stream",
     "text": [
      "✅ Validation complete.\n"
     ]
    },
    {
     "name": "stderr",
     "output_type": "stream",
     "text": [
      "\n"
     ]
    }
   ],
   "source": [
    "print(\"🔍 Validating tokenizer on dataset...\")\n",
    "for i, smiles in enumerate(tqdm(smiles_list[:1000], desc=\"🧪 Validating\", unit=\"smiles\")):\n",
    "    try:\n",
    "        ids = pruned_tokenizer.encode(smiles)\n",
    "        decoded = pruned_tokenizer.decode(ids)\n",
    "        if decoded != smiles:\n",
    "            print(f\"⚠️  Mismatch at line {i}: '{smiles}' → decoded as '{decoded}'\")\n",
    "    except Exception as e:\n",
    "        print(f\"❌ Error encoding line {i}: {e}\")\n",
    "\n",
    "print(\"✅ Validation complete.\")"
   ]
  }
 ],
 "metadata": {
  "kernelspec": {
   "display_name": "base",
   "language": "python",
   "name": "python3"
  },
  "language_info": {
   "codemirror_mode": {
    "name": "ipython",
    "version": 3
   },
   "file_extension": ".py",
   "mimetype": "text/x-python",
   "name": "python",
   "nbconvert_exporter": "python",
   "pygments_lexer": "ipython3",
   "version": "3.13.0"
  }
 },
 "nbformat": 4,
 "nbformat_minor": 5
}
